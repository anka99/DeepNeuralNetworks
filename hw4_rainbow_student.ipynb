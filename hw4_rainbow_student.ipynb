{
  "cells": [
    {
      "cell_type": "markdown",
      "metadata": {
        "id": "view-in-github",
        "colab_type": "text"
      },
      "source": [
        "<a href=\"https://colab.research.google.com/github/anka99/DeepNeuralNetworks/blob/main/hw4_rainbow_student.ipynb\" target=\"_parent\"><img src=\"https://colab.research.google.com/assets/colab-badge.svg\" alt=\"Open In Colab\"/></a>"
      ]
    },
    {
      "cell_type": "markdown",
      "id": "91a0c19f",
      "metadata": {
        "id": "91a0c19f"
      },
      "source": [
        "# Sample Efficient Reinforcement Learning - from DQN to (almost) Rainbow\n",
        "### Author: Michal Nauman, Editor: Mateusz Olko\n",
        "\n",
        "In this homework we will expand upon on the Deep Q-Network (DQN) algorithm [(Mnih 2014)](https://www.cs.toronto.edu/~vmnih/docs/dqn.pdf). DQN has been successfully applied to a wide range of environments and has demonstrated strong performance on many tasks. However, several challenges and limitations to the DQN that have been identified in the literature:\n",
        "\n",
        "1. Sample complexity - DQN can require a large number of samples to learn effectively, especially in environments with high-dimensional state spaces or a large number of possible actions\n",
        "2. Convergence - DQN is known to converge to the optimal solution under certain conditions, but the convergence properties of the algorithm are not well understood and it is not guaranteed to converge in all cases\n",
        "3. Overestimation - DQN is known to sometimes overestimate the Q-values of certain actions, which can lead to suboptimal behavior\n",
        "4. Sensitivity to hyperparameters - DQN can be sensitive to the choice of hyperparameters, such as the learning rate, the discount factor, and the exploration scheme.\n",
        "\n",
        "Rainbow algorithm [(Hessel 2017)](https://arxiv.org/pdf/1710.02298.pdf) is a combination of several techniques for improving the performance of the DQN algorithm, which was originally proposed by DeepMind. By combining several techniques, the Rainbow algorithm is able to improve the sample efficiency, stability and  performance of the DQN algorithm. Overall, the Rainbow algorithm represents an important step forward in the development of reinforcement learning algorithms and is often used as a baseline for implementing more complex changes to the RL setup (e.g. [(Schwarzer 2021)](https://arxiv.org/pdf/2007.05929.pdf) or [(Srinivas 2020)](https://arxiv.org/pdf/2004.04136.pdf))\n",
        "\n",
        "In this homework, you will learn to augment a simple DQN implementation with all the components of Rainbow except for distributional Q-learning. To test our implementations, we will use the Lunar Lander environment. Given resources, the environment is easily solved by a vanilla DQN implementation. But we do not have resources. What we have is a budget of:\n",
        "\n",
        "1. 40 000 environment steps\n",
        "2. 35 000 Q-network updates \n",
        "\n",
        "And quite inefficient exploration scheme. As such, our basic DQN implementation will not be enough to solve Lunar Landing problem within the constraints.\n",
        "\n",
        "## Homework scenario and grading\n",
        "\n",
        "We provide you with a basic implementation of the DQN. Your job is to expand it with the following modules:\n",
        "\n",
        "1. Double Q-Learning - [(van Hasselt 2015)](https://arxiv.org/pdf/1509.06461.pdf) **1.5 pkt**\n",
        "2. N-step learning - [(Sutton 1988)](http://incompleteideas.net/papers/sutton-88-with-erratum.pdf) **1.5 pkt**\n",
        "3. Noisy linear layers - [(Fortunato et al. 2017)](https://arxiv.org/pdf/1706.10295.pdf) **1.5 pkt**\n",
        "4. Dueling network architecture - [(Wang et al. 2015)](https://arxiv.org/pdf/1511.06581.pdf) **1.5 pkt**\n",
        "5. Prioritized experience replay - [(Schaul et al. 2015)](https://arxiv.org/pdf/1511.05952.pdf) **1.5 pkt**\n",
        "6. (Almost) Rainbow - [(Hessel 2017)](https://arxiv.org/pdf/1710.02298.pdf) **1.5 pkt**\n",
        "\n",
        "Each module is designed to work independently (i.e. you can implement each individually with DQN). The final task of this homework is to combine all the implemented modules into (almost) Rainbow agent. You get the last point (**1 pkt**) for plotting results for all implemented parts."
      ]
    },
    {
      "cell_type": "markdown",
      "id": "949c29dc",
      "metadata": {
        "id": "949c29dc"
      },
      "source": [
        "We import the necessary modules:"
      ]
    },
    {
      "cell_type": "code",
      "source": [
        "!pip install gym[box2d]"
      ],
      "metadata": {
        "id": "Z_2HKKYIdygC",
        "colab": {
          "base_uri": "https://localhost:8080/"
        },
        "outputId": "adb5aad1-2737-414f-a719-9c212b64a844"
      },
      "id": "Z_2HKKYIdygC",
      "execution_count": null,
      "outputs": [
        {
          "output_type": "stream",
          "name": "stdout",
          "text": [
            "Looking in indexes: https://pypi.org/simple, https://us-python.pkg.dev/colab-wheels/public/simple/\n",
            "Requirement already satisfied: gym[box2d] in /usr/local/lib/python3.8/dist-packages (0.25.2)\n",
            "Requirement already satisfied: importlib-metadata>=4.8.0 in /usr/local/lib/python3.8/dist-packages (from gym[box2d]) (6.0.0)\n",
            "Requirement already satisfied: numpy>=1.18.0 in /usr/local/lib/python3.8/dist-packages (from gym[box2d]) (1.21.6)\n",
            "Requirement already satisfied: gym-notices>=0.0.4 in /usr/local/lib/python3.8/dist-packages (from gym[box2d]) (0.0.8)\n",
            "Requirement already satisfied: cloudpickle>=1.2.0 in /usr/local/lib/python3.8/dist-packages (from gym[box2d]) (2.2.0)\n",
            "Collecting pygame==2.1.0\n",
            "  Downloading pygame-2.1.0-cp38-cp38-manylinux_2_17_x86_64.manylinux2014_x86_64.whl (18.3 MB)\n",
            "\u001b[2K     \u001b[90m━━━━━━━━━━━━━━━━━━━━━━━━━━━━━━━━━━━━━━━━\u001b[0m \u001b[32m18.3/18.3 MB\u001b[0m \u001b[31m56.4 MB/s\u001b[0m eta \u001b[36m0:00:00\u001b[0m\n",
            "\u001b[?25hCollecting swig==4.*\n",
            "  Downloading swig-4.1.1-py2.py3-none-manylinux_2_5_x86_64.manylinux1_x86_64.whl (1.8 MB)\n",
            "\u001b[2K     \u001b[90m━━━━━━━━━━━━━━━━━━━━━━━━━━━━━━━━━━━━━━━━\u001b[0m \u001b[32m1.8/1.8 MB\u001b[0m \u001b[31m73.5 MB/s\u001b[0m eta \u001b[36m0:00:00\u001b[0m\n",
            "\u001b[?25hCollecting box2d-py==2.3.5\n",
            "  Downloading box2d-py-2.3.5.tar.gz (374 kB)\n",
            "\u001b[2K     \u001b[90m━━━━━━━━━━━━━━━━━━━━━━━━━━━━━━━━━━━━━━\u001b[0m \u001b[32m374.4/374.4 KB\u001b[0m \u001b[31m37.3 MB/s\u001b[0m eta \u001b[36m0:00:00\u001b[0m\n",
            "\u001b[?25h  Preparing metadata (setup.py) ... \u001b[?25l\u001b[?25hdone\n",
            "Requirement already satisfied: zipp>=0.5 in /usr/local/lib/python3.8/dist-packages (from importlib-metadata>=4.8.0->gym[box2d]) (3.11.0)\n",
            "Building wheels for collected packages: box2d-py\n",
            "  \u001b[1;31merror\u001b[0m: \u001b[1msubprocess-exited-with-error\u001b[0m\n",
            "  \n",
            "  \u001b[31m×\u001b[0m \u001b[32mpython setup.py bdist_wheel\u001b[0m did not run successfully.\n",
            "  \u001b[31m│\u001b[0m exit code: \u001b[1;36m1\u001b[0m\n",
            "  \u001b[31m╰─>\u001b[0m See above for output.\n",
            "  \n",
            "  \u001b[1;35mnote\u001b[0m: This error originates from a subprocess, and is likely not a problem with pip.\n",
            "  Building wheel for box2d-py (setup.py) ... \u001b[?25lerror\n",
            "\u001b[31m  ERROR: Failed building wheel for box2d-py\u001b[0m\u001b[31m\n",
            "\u001b[0m\u001b[?25h  Running setup.py clean for box2d-py\n",
            "Failed to build box2d-py\n",
            "Installing collected packages: swig, box2d-py, pygame\n",
            "  Running setup.py install for box2d-py ... \u001b[?25l\u001b[?25hdone\n",
            "\u001b[33m  DEPRECATION: box2d-py was installed using the legacy 'setup.py install' method, because a wheel could not be built for it. A possible replacement is to fix the wheel build issue reported above. Discussion can be found at https://github.com/pypa/pip/issues/8368\u001b[0m\u001b[33m\n",
            "\u001b[0mSuccessfully installed box2d-py-2.3.5 pygame-2.1.0 swig-4.1.1\n"
          ]
        }
      ]
    },
    {
      "cell_type": "code",
      "execution_count": null,
      "id": "d0728d82",
      "metadata": {
        "id": "d0728d82"
      },
      "outputs": [],
      "source": [
        "import os\n",
        "import math\n",
        "import random\n",
        "import time\n",
        "\n",
        "import gym\n",
        "from google.colab import files\n",
        "import numpy as np\n",
        "import torch\n",
        "import torch.nn as nn\n",
        "import torch.optim as optim\n"
      ]
    },
    {
      "cell_type": "markdown",
      "id": "094e4c1f",
      "metadata": {
        "id": "094e4c1f"
      },
      "source": [
        "We define a simple class for holding the hyperparameters (do not change those!)"
      ]
    },
    {
      "cell_type": "code",
      "execution_count": null,
      "id": "e1883162",
      "metadata": {
        "id": "e1883162",
        "colab": {
          "base_uri": "https://localhost:8080/"
        },
        "outputId": "ca7dddc9-a0dd-4df9-9c02-f0928874767b"
      },
      "outputs": [
        {
          "output_type": "stream",
          "name": "stderr",
          "text": [
            "/usr/local/lib/python3.8/dist-packages/gym/core.py:317: DeprecationWarning: \u001b[33mWARN: Initializing wrapper in old step API which returns one bool instead of two. It is recommended to set `new_step_api=True` to use new step API. This will be the default behaviour in future.\u001b[0m\n",
            "  deprecation(\n",
            "/usr/local/lib/python3.8/dist-packages/gym/wrappers/step_api_compatibility.py:39: DeprecationWarning: \u001b[33mWARN: Initializing environment in old step API which returns one bool instead of two. It is recommended to set `new_step_api=True` to use new step API. This will be the default behaviour in future.\u001b[0m\n",
            "  deprecation(\n"
          ]
        }
      ],
      "source": [
        "# do not change!\n",
        "class parse_args:\n",
        "    def __init__(self):\n",
        "        self.gym_id = \"LunarLander-v2\"\n",
        "        self.capacity = 10000\n",
        "        self.init_steps = 10000\n",
        "        self.batch_size = 128\n",
        "        self.hidden_dim = 128\n",
        "        self.learning_rate = 7e-4\n",
        "        self.discount = 0.99\n",
        "        self.samples = 3\n",
        "        self.total_timesteps = 40000\n",
        "        self.target_update_freq = 50\n",
        "        self.evaluate_freq = 1000\n",
        "        self.evaluate_samples = 5\n",
        "        self.anneal_steps = 30000\n",
        "        self.epsilon_limit = 0.01\n",
        "        self.cuda = True\n",
        "        env = gym.make(self.gym_id)\n",
        "        self.state_dim = env.observation_space.shape[0]\n",
        "        self.action_dim = env.action_space.n\n",
        "        self.device = torch.device(\"cuda\" if torch.cuda.is_available() and self.cuda else \"cpu\")\n",
        "        \n",
        "args = parse_args()"
      ]
    },
    {
      "cell_type": "markdown",
      "id": "e0866057",
      "metadata": {
        "id": "e0866057"
      },
      "source": [
        "And two helper functions: one for setting seeds, one for simple orthogonal initialization of linear layers, and one for saving and downloading training results."
      ]
    },
    {
      "cell_type": "code",
      "execution_count": null,
      "id": "97603d29",
      "metadata": {
        "id": "97603d29"
      },
      "outputs": [],
      "source": [
        "def set_seed_everywhere(env, seed):\n",
        "    torch.manual_seed(seed)\n",
        "    if torch.cuda.is_available():\n",
        "        torch.cuda.manual_seed_all(seed)\n",
        "    np.random.seed(seed)\n",
        "    env.seed(seed)\n",
        "    \n",
        "def weight_init(model):\n",
        "    if isinstance(model, nn.Linear):\n",
        "        nn.init.orthogonal_(model.weight.data)\n",
        "        model.bias.data.fill_(0.0)\n",
        "\n",
        "def download_numpy(filename, data):\n",
        "    np.save(filename, data)\n",
        "    files.download(filename)"
      ]
    },
    {
      "cell_type": "markdown",
      "id": "32176d86",
      "metadata": {
        "id": "32176d86"
      },
      "source": [
        "## 0. DQN"
      ]
    },
    {
      "cell_type": "markdown",
      "id": "8ed14f18",
      "metadata": {
        "id": "8ed14f18"
      },
      "source": [
        "Deep Q-Network (DQN) [(Mnih 2014)](https://www.cs.toronto.edu/~vmnih/docs/dqn.pdf) is a reinforcement learning algorithm that uses a deep neural network to learn a Q-function, which is a function that estimates the expected return for taking a given action in a given state. The goal of the DQN algorithm is to learn a policy that maximizes the expected return by learning the Q-function and selecting the action with the highest estimated return in each state.\n",
        "\n",
        "The DQN algorithm consists of two main components: a Q-network and an experience buffer. The Q-network is a deep neural network that takes in a state as input and outputs the estimated Q-values for each possible action. The experience buffer is a data structure that stores a set of experiences. The DQN algorithm works by interacting with the environment and storing the experiences in the experience buffer. The Q-network is then trained using a mini-batch of experiences uniformly sampled from the experience buffer. This process is known as experience replay and is used to decorrelate the experiences and to stabilize the learning process. The Q-network is updated using the loss function:\n",
        "\n",
        "$$\n",
        "\\mathcal{L}_{\\theta} = \\frac{1}{B} \\sum_{i=1}^{B} \\bigl( \\mathrm{TD}~(s_i, a_i, s^{'}_{i}) \\bigr)^{2}\n",
        "$$\n",
        "\n",
        "With:\n",
        "\n",
        "$$\n",
        "\\mathrm{TD}~(s_i, a_i, s^{'}_{i}) = Q_{\\theta}~(s_i,a_i) - \\bigl(r_{(s_i,a_i,s_{i}^{'})} + \\gamma ~ \\underset{a^{'}_{i} \\sim \\bar{Q}_{\\theta}}{\\mathrm{max}} ~ \\bar{Q}_{\\theta}~(s_{i}^{'},a_{i}^{'}) \\bigr)\n",
        "$$\n",
        "\n",
        "Where $Q_{\\theta}$ and $\\bar{Q}_{\\theta}$ denote learned and target Q-networks respectively. The target network is a copy of the Q-network that is updated less frequently, and using it to compute the target Q-values helps to stabilize the learning process and improve the performance of the DQN algorithm. Note that to increase stability of training we use Huber loss (smooth_l1_loss) instead of L2.\n",
        "\n",
        "There are several ways to incorporate exploration into the DQN algorithm. One common method is to use an $\\epsilon$-greedy exploration strategy, where the agent takes a random action with probability $\\epsilon$ and takes the action with the highest estimated Q-value with probability $1 - \\epsilon$. The value of $\\epsilon$ is typically decreased over time, so that the agent initially explores more and then gradually shifts towards exploitation as it learns more about the environment.\n",
        "\n",
        "Below, we implement all the components of a basic DQN. We start with the experience buffer - a data structure that stores a set of transitions, where a transition is typically represented as a tuple $(s, a, r, s', t)$, where $s$ is the state, $a$ is the action taken in state $s$, $r$ is the reward received by performing $a$ in $s$ and getting to $s'$, $s'$ is the new state observed after performing $a$ in $s$ and $t$ is the termination boolean (true if $s'$ is terminal). Experience buffers are used to store the experiences of an agent as it interacts with an environment, and are used to train a Q-function, which is a function that estimates the expected return for taking a given action in a given state. We implement **ExperienceBuffer** class using NumPy arrays and we define two methods:\n",
        "\n",
        "1. *add* - adds transition to the buffer\n",
        "2. *sample* - samples a batch of transitions from the buffer"
      ]
    },
    {
      "cell_type": "code",
      "execution_count": null,
      "id": "53e147c5",
      "metadata": {
        "id": "53e147c5"
      },
      "outputs": [],
      "source": [
        "import sys\n",
        "\n",
        "class ExperienceBuffer:\n",
        "    def __init__(self, args):\n",
        "        self.states = np.zeros((args.capacity, args.state_dim), dtype=np.float32)\n",
        "        self.actions = np.zeros((args.capacity, 1), dtype=np.int64)\n",
        "        self.rewards = np.zeros((args.capacity, 1), dtype=np.float32)\n",
        "        self.next_states = np.zeros((args.capacity, args.state_dim), dtype=np.float32)\n",
        "        self.terminals = np.zeros((args.capacity, 1), dtype=np.int64)\n",
        "        self.full = False\n",
        "        self.idx = 0\n",
        "        self.args = args \n",
        "        \n",
        "    def add(self, state, action, reward, next_state, terminal):\n",
        "        self.states[self.idx, :] = state\n",
        "        self.actions[self.idx, :] = action\n",
        "        self.rewards[self.idx, :] = reward\n",
        "        self.next_states[self.idx, :] = next_state\n",
        "        self.terminals[self.idx, :] = 1 if terminal else 0\n",
        "        self.idx += 1\n",
        "        if self.idx == self.args.capacity:\n",
        "            self.full = True\n",
        "            self.idx = 0\n",
        "            \n",
        "    def sample(self):\n",
        "        idx = np.random.permutation(self.args.capacity)[:self.args.batch_size] if self.full else np.random.permutation(self.idx-1)[:self.args.batch_size]\n",
        "        states = torch.from_numpy(self.states[idx]).to(self.args.device)\n",
        "        actions = torch.from_numpy(self.actions[idx]).to(self.args.device)\n",
        "        rewards = torch.from_numpy(self.rewards[idx]).to(self.args.device)\n",
        "        next_states = torch.from_numpy(self.next_states[idx]).to(self.args.device)\n",
        "        terminals = torch.from_numpy(self.terminals[idx]).long().to(self.args.device)\n",
        "        return states, actions, rewards, next_states, terminals"
      ]
    },
    {
      "cell_type": "markdown",
      "id": "9fdcd965",
      "metadata": {
        "id": "9fdcd965"
      },
      "source": [
        "**QNetwork** class is a simple nn.Module MLP. Note the output size being equal to the amount of actions in the environment."
      ]
    },
    {
      "cell_type": "code",
      "execution_count": null,
      "id": "e3fb7c14",
      "metadata": {
        "id": "e3fb7c14"
      },
      "outputs": [],
      "source": [
        "class QNetwork(nn.Module):\n",
        "    def __init__(self, args):\n",
        "        super(QNetwork, self).__init__()\n",
        "        self.layers = nn.Sequential(\n",
        "           nn.Linear(args.state_dim, args.hidden_dim), nn.ReLU(),\n",
        "            nn.Linear(args.hidden_dim, args.hidden_dim), nn.ReLU(),\n",
        "            nn.Linear(args.hidden_dim, args.action_dim))\n",
        "        self.apply(weight_init)\n",
        "        \n",
        "    def forward(self, x):\n",
        "        return self.layers(x)"
      ]
    },
    {
      "cell_type": "markdown",
      "id": "03ed7a71",
      "metadata": {
        "id": "03ed7a71"
      },
      "source": [
        "Finally we implement DQN agent. The class has following methods:\n",
        "\n",
        "1. *get_action* - returns action in given state using $\\epsilon$-greedy\n",
        "2. *anneal* - reduces the value of $\\epsilon$ dependent on the training step\n",
        "3. *update* - samples a batch of transitions from the experience buffer and performs a DQN update\n",
        "4. *update_target* - performs a hard update on the target Q network $\\bar{Q}_{\\theta}$\n",
        "5. *evaluate* - performs evaluation of the agent with a greedy policy \n",
        "6. *reset* - resets the agent (used between seeds)"
      ]
    },
    {
      "cell_type": "code",
      "execution_count": null,
      "id": "28b71037",
      "metadata": {
        "id": "28b71037"
      },
      "outputs": [],
      "source": [
        "class DQN:\n",
        "    def __init__(self, args):\n",
        "        super(DQN, self).__init__()\n",
        "        self.args = args \n",
        "        self.buffer = ExperienceBuffer(self.args)\n",
        "        self.epsilon = 1\n",
        "        self.q_net = QNetwork(self.args).to(self.args.device)\n",
        "        self.q_target = QNetwork(self.args).to(self.args.device)\n",
        "        self.q_target.load_state_dict(self.q_net.state_dict())\n",
        "        self.optimizer = optim.Adam(self.q_net.parameters(), lr=self.args.learning_rate, eps=1e-5)\n",
        "                \n",
        "    def get_action(self, state, exploration=True):\n",
        "        with torch.no_grad():\n",
        "            return np.random.randint(self.args.action_dim) if np.random.sample() < self.epsilon and exploration else torch.argmax(self.q_net(state)).item()\n",
        "\n",
        "    def anneal(self, step):\n",
        "        self.epsilon = ((self.args.epsilon_limit - 1)/self.args.anneal_steps) * step + 1 if step < self.args.anneal_steps else self.epsilon\n",
        "\n",
        "    def update(self):\n",
        "        states, actions, rewards, next_states, terminals = self.buffer.sample()\n",
        "        with torch.no_grad():\n",
        "            q_ns = torch.max(self.q_target(next_states), dim=1)[0].unsqueeze(1)\n",
        "        q_targets = rewards + (1-terminals) * self.args.discount * q_ns\n",
        "        \n",
        "        self.optimizer.zero_grad()\n",
        "        q_values = self.q_net(states).gather(1, actions)\n",
        "        loss = nn.functional.smooth_l1_loss(q_values, q_targets)\n",
        "        loss.backward()\n",
        "        self.optimizer.step()\n",
        "    \n",
        "    def update_target(self):\n",
        "        self.q_target.load_state_dict(self.q_net.state_dict())\n",
        "        \n",
        "    def evaluate(self, samples):\n",
        "        with torch.no_grad():\n",
        "            env_test = gym.make(self.args.gym_id)\n",
        "            eval_reward = 0\n",
        "            for i in range(samples):\n",
        "                state = env_test.reset()\n",
        "                episode_reward = 0\n",
        "                while True:\n",
        "                    action = self.get_action(torch.tensor(state).unsqueeze(0).to(self.args.device), False)\n",
        "                    next_state, reward, terminal, _ = env_test.step(action)\n",
        "                    episode_reward += reward\n",
        "                    state = next_state\n",
        "                    if terminal:\n",
        "                        eval_reward += episode_reward/samples\n",
        "                        break\n",
        "        return eval_reward\n",
        "    \n",
        "    def reset(self):\n",
        "        self.buffer = ExperienceBuffer(self.args)\n",
        "        self.epsilon = 1\n",
        "        self.q_net = QNetwork(self.args).to(self.args.device)\n",
        "        self.q_target = QNetwork(self.args).to(self.args.device)\n",
        "        self.q_target.load_state_dict(self.q_net.state_dict())\n",
        "        self.optimizer = optim.Adam(self.q_net.parameters(), lr=self.args.learning_rate, eps=1e-5)"
      ]
    },
    {
      "cell_type": "markdown",
      "id": "f539a644",
      "metadata": {
        "id": "f539a644"
      },
      "source": [
        "Finally, we provide code for agent training:"
      ]
    },
    {
      "cell_type": "code",
      "execution_count": null,
      "id": "385a9330",
      "metadata": {
        "id": "385a9330"
      },
      "outputs": [],
      "source": [
        "def train_agent(args, agent):\n",
        "    results = np.zeros((args.total_timesteps//args.evaluate_freq, args.samples))\n",
        "    for seed in range(args.samples):\n",
        "        env = gym.make(args.gym_id)\n",
        "        agent.reset()\n",
        "        set_seed_everywhere(env, seed)\n",
        "        state = env.reset()\n",
        "        for step in range(args.total_timesteps):\n",
        "            if step == args.init_steps:\n",
        "                start_time = time.time()\n",
        "            action = agent.get_action(torch.tensor(state).unsqueeze(0).to(args.device))\n",
        "            next_state, reward, terminal, _ = env.step(action)\n",
        "            agent.buffer.add(state, action, reward, next_state, terminal)\n",
        "            agent.anneal(step)\n",
        "            state = next_state\n",
        "            if step >= args.init_steps:\n",
        "                agent.update()\n",
        "                if (step + 1) % args.target_update_freq == 0:\n",
        "                    agent.update_target()\n",
        "                if (step + 1) % args.evaluate_freq == 0:\n",
        "                    eval_reward = agent.evaluate(args.evaluate_samples)\n",
        "                    results[step//args.evaluate_freq, seed] = eval_reward\n",
        "                    print(\"\\rSample: {} Step: {} Evaluation reward: {:.2f} Samples per second: {:}\".format(seed, step, eval_reward, int((step-args.init_steps)/(time.time()-start_time))), end=\"\")\n",
        "            if terminal:\n",
        "                state = env.reset()\n",
        "                episode_reward = 0\n",
        "    return results"
      ]
    },
    {
      "cell_type": "markdown",
      "id": "ff186311",
      "metadata": {
        "id": "ff186311"
      },
      "source": [
        "Note that you should not change the code above - you should be able to perform all tasks by creating new classes. We train the DQN agent with given hyperparameters and inspect the results:"
      ]
    },
    {
      "cell_type": "code",
      "execution_count": null,
      "id": "938d29b1",
      "metadata": {
        "id": "938d29b1",
        "colab": {
          "base_uri": "https://localhost:8080/"
        },
        "outputId": "8afa6897-4068-4472-f958-32d19eea19a6"
      },
      "outputs": [
        {
          "output_type": "stream",
          "name": "stderr",
          "text": [
            "/usr/local/lib/python3.8/dist-packages/gym/core.py:317: DeprecationWarning: \u001b[33mWARN: Initializing wrapper in old step API which returns one bool instead of two. It is recommended to set `new_step_api=True` to use new step API. This will be the default behaviour in future.\u001b[0m\n",
            "  deprecation(\n",
            "/usr/local/lib/python3.8/dist-packages/gym/wrappers/step_api_compatibility.py:39: DeprecationWarning: \u001b[33mWARN: Initializing environment in old step API which returns one bool instead of two. It is recommended to set `new_step_api=True` to use new step API. This will be the default behaviour in future.\u001b[0m\n",
            "  deprecation(\n",
            "/usr/local/lib/python3.8/dist-packages/gym/core.py:256: DeprecationWarning: \u001b[33mWARN: Function `env.seed(seed)` is marked as deprecated and will be removed in the future. Please use `env.reset(seed=seed)` instead.\u001b[0m\n",
            "  deprecation(\n"
          ]
        },
        {
          "output_type": "stream",
          "name": "stdout",
          "text": [
            "Sample: 2 Step: 39999 Evaluation reward: 234.33 Samples per second: 107"
          ]
        }
      ],
      "source": [
        "agent = DQN(args)\n",
        "results_dqn = train_agent(args, agent)"
      ]
    },
    {
      "cell_type": "code",
      "source": [
        "print(results_dqn.mean(1)[10:].mean())\n",
        "print(results_dqn.mean(1).mean())"
      ],
      "metadata": {
        "id": "ylKNXtoWLD-e",
        "colab": {
          "base_uri": "https://localhost:8080/"
        },
        "outputId": "a1500b9f-fc4e-435d-8249-915e3bbd2286"
      },
      "id": "ylKNXtoWLD-e",
      "execution_count": null,
      "outputs": [
        {
          "output_type": "stream",
          "name": "stdout",
          "text": [
            "-18.782536989954124\n",
            "-14.086902742465593\n"
          ]
        }
      ]
    },
    {
      "cell_type": "markdown",
      "id": "3376e3e2",
      "metadata": {
        "id": "3376e3e2"
      },
      "source": [
        "As you can see, the vanilla DQN does not yield optimal performance given the budget and exploration constraints. Below is the first module that you have to add to the DQN algorithm."
      ]
    },
    {
      "cell_type": "markdown",
      "id": "64e5bfc1",
      "metadata": {
        "id": "64e5bfc1"
      },
      "source": [
        "## 1. Double DQN\n",
        "\n",
        "The loss function of vanilla DQN is defined as the average of single transition temporal difference (TD) error over $B$ transitions:\n",
        "\n",
        "$$\n",
        "\\mathcal{L}_{\\theta} = \\frac{1}{B} \\sum_{i=1}^{B} \\bigl( \\mathrm{TD}~(s_i, a_i, s^{'}_{i}) \\bigr)^{2}\n",
        "$$\n",
        "\n",
        "With transitions $(s_i, a_i, s^{'}_{i})$ sampled uniformly from the experience buffer. The transition TD error is defined through Bellman optimality condition:\n",
        "\n",
        "$$\n",
        "\\mathrm{TD}~(s_i, a_i, s^{'}_{i}) = Q_{\\theta}~(s_i,a_i) - \\bigl(r_{(s_i,a_i,s_{i}^{'})} + \\gamma ~ \\underset{a^{'}_{i} \\sim \\bar{Q}_{\\theta}}{\\mathrm{max}} ~ \\bar{Q}_{\\theta}~(s_{i}^{'},a_{i}^{'}) \\bigr)\n",
        "$$\n",
        "\n",
        "Where $Q_{\\theta}$ and $\\bar{Q}_{\\theta}$ denote learned and target Q-networks respectively. In the setup above $a_{i}^{'}$ is chosen via maximum operation over the output of the target Q-network for $s^{'}_{i}$. Using a single network to choose the best action and estimate its Q-value promotes overestimated values. Using such values for supervision leads in turn to general overoptimism of the Q-network and is known to sabotage the training.\n",
        "\n",
        "In Double Deep Q-Network (DDQN) [(van Hasselt 2015)](https://arxiv.org/pdf/1509.06461.pdf) proposes using two Q-networks in the process of target estimation: one Q-network to choose the maximum valued action from (i.e. *argmax*); and the second one to estimate value of the chosen action (i.e. Q-value estimation for the *argmax* result). Authors show that in DDQN estimated Q-values are less likely to be inflated and lead to more stable learning and better policies. We can use $Q_{\\theta}$ and $\\bar{Q}_{\\theta}$ to augment DQN into DDQN: \n",
        "\n",
        "$$\n",
        "\\mathrm{TD}~(s_i, a_i, s^{'}_{i}) = Q_{\\theta}~(s_i,a_i) - \\bigl(r_{(s_i,a_i,s_{i}^{'})} + \\gamma ~ \\bar{Q}_{\\theta}~(s_{i}^{'},\\underset{a^{'}_{i} \\sim Q_{\\theta}}{\\mathrm{argmax}} ~ Q_{\\theta} (s_{i}^{'}, a^{'}_{i})  \\bigr)\n",
        "$$\n",
        "\n",
        "Such definition of DDQN leads to very small code changes w.r.t. vanilla DQN implementation. Although $Q_{\\theta}$ and $\\bar{Q}_{\\theta}$ are not fully decoupled, using them leads to good performance increase without introduction of additional networks."
      ]
    },
    {
      "cell_type": "markdown",
      "id": "19bee972",
      "metadata": {
        "id": "19bee972"
      },
      "source": [
        "### Task 1.1: Implement and train DDQN \n",
        "Implement the *update* method for **DDQN** class (no other method of the base class should be changed): "
      ]
    },
    {
      "cell_type": "code",
      "execution_count": null,
      "id": "c7b682c0",
      "metadata": {
        "id": "c7b682c0"
      },
      "outputs": [],
      "source": [
        "import sys\n",
        "\n",
        "class DDQN(DQN):\n",
        "    def __init__(self, args):\n",
        "        super(DDQN, self).__init__(args)\n",
        "        \n",
        "    def update(self):\n",
        "        states, actions, rewards, next_states, terminals = self.buffer.sample()\n",
        "\n",
        "        with torch.no_grad():\n",
        "          x = self.q_net(next_states)\n",
        "          best_action = torch.argmax(x, dim=1).unsqueeze(1)\n",
        "          q_values = self.q_target(next_states)\n",
        "          q_ns = q_values.gather(1, best_action)\n",
        "        q_targets = rewards + (1-terminals) * self.args.discount * q_ns\n",
        "        \n",
        "        self.optimizer.zero_grad()\n",
        "        q_values = self.q_net(states).gather(1, actions)\n",
        "        loss = nn.functional.smooth_l1_loss(q_values, q_targets)\n",
        "        loss.backward()\n",
        "        self.optimizer.step()"
      ]
    },
    {
      "cell_type": "code",
      "execution_count": null,
      "id": "926c3cc9",
      "metadata": {
        "id": "926c3cc9",
        "colab": {
          "base_uri": "https://localhost:8080/"
        },
        "outputId": "9633a294-a3b2-4cef-db37-6b33f02fc123"
      },
      "outputs": [
        {
          "output_type": "stream",
          "name": "stdout",
          "text": [
            "Sample: 2 Step: 39999 Evaluation reward: -54.16 Samples per second: 92"
          ]
        }
      ],
      "source": [
        "agent = DDQN(args)\n",
        "results_dqn1 = train_agent(args, agent)"
      ]
    },
    {
      "cell_type": "code",
      "source": [
        "print(results_dqn1.mean(1)[-10:].mean())\n",
        "print(results_dqn1.mean(1).mean())"
      ],
      "metadata": {
        "id": "aA5mv91Tn5Ek",
        "colab": {
          "base_uri": "https://localhost:8080/"
        },
        "outputId": "d784665b-fbd2-44ea-ce31-d13f2711a335"
      },
      "id": "aA5mv91Tn5Ek",
      "execution_count": null,
      "outputs": [
        {
          "output_type": "stream",
          "name": "stdout",
          "text": [
            "20.705365923977222\n",
            "-26.184631910339398\n"
          ]
        }
      ]
    },
    {
      "cell_type": "markdown",
      "id": "004bf3a3",
      "metadata": {
        "id": "004bf3a3"
      },
      "source": [
        "## 2. $\\mathrm{TD}_{n}$ - N-step Q-value estimation\n",
        "\n",
        "$N$-step TD ($\\mathrm{TD}_{n}$) was introduced long before neural network based RL. In regular TD, we supervise the Q-network with single-step reward summed with highest Q-value of the next state. In contrast to that, $\\mathrm{TD}_{n}$ accumulated rewards over $n$ steps and sums it with the highest Q-value of the state that occured after $n$ steps [(Sutton 1988)](http://incompleteideas.net/papers/sutton-88-with-erratum.pdf). Double DQN $\\mathrm{TD}_{n}$ loss is defined by:\n",
        "\n",
        "$$\n",
        "\\mathrm{TD}_{n}(s_i, a_i, s^{'}_{i+n}) = Q_{\\theta}~(s_i,a_i) - \\biggl(\\sum_{k=0}^{n-1} \\gamma^{k} ~ r_{(s_{i+k},a_{i+k},s_{i+k}^{'})} + \\gamma^{n} \\underset{a^{'}_{i+n} \\sim \\bar{Q}_{\\theta}}{\\mathrm{max}} ~ \\bar{Q}_{\\theta}~(s_{i+n}^{'},a_{i+n}^{'}) \\biggr)\n",
        "$$\n",
        "\n",
        "Implementing $\\mathrm{TD}_{n}$ requires changes to the ExperienceBuffer class. We will implement those changes using the **deque** module. This module will store $n$ of the most recent transitions, and will act as an intermediate between agent and buffers main storage. As compared to single step reward and $s_{i}^{'}$ stored by the simple ExperienceBuffer, the main storage of this upgraded buffer should store $n$ step rewards and $s_{i+n}^{'}$."
      ]
    },
    {
      "cell_type": "markdown",
      "id": "f448764d",
      "metadata": {
        "id": "f448764d"
      },
      "source": [
        "### Task 2.1 Implement NStepBuffer\n",
        "Implement *get_nstep* method for **NStepBuffer** class (no other method of base class should be changed). The *get_nstep* method should process current memory and output a tuple of five:\n",
        "* state for which the $\\mathrm{TD}_{n}$ reward was computed,\n",
        "* action chosen in that step in processed trajectory,\n",
        "* $\\mathrm{TD}_{n}$ reward computed using *nstep* rewards,\n",
        "* state reached after *nstep* steps (possibly earlier if terminal state was encountered),\n",
        "* terminal flag, that notifies wheather trajectory has reached terminal state within *nstep* steps."
      ]
    },
    {
      "cell_type": "code",
      "execution_count": null,
      "id": "12560df7",
      "metadata": {
        "id": "12560df7"
      },
      "outputs": [],
      "source": [
        "from collections import deque\n",
        "\n",
        "class NStepBuffer(ExperienceBuffer):\n",
        "    def __init__(self, args, nstep):\n",
        "        super(NStepBuffer, self).__init__(args)\n",
        "        self.memories = deque(maxlen=nstep)\n",
        "        self.nstep = nstep \n",
        "        \n",
        "    def add(self, state, action, reward, next_state, terminal):\n",
        "        terminal_ = 1 if terminal else 0 \n",
        "        memory = (state, action, reward, next_state, terminal_)\n",
        "        self.memories.append(memory)\n",
        "        if len(self.memories) >= self.nstep:\n",
        "            state, action, reward, next_state, terminal = self.get_nstep()\n",
        "            self.states[self.idx, :] = state\n",
        "            self.actions[self.idx, :] = action\n",
        "            self.rewards[self.idx, :] = reward\n",
        "            self.next_states[self.idx, :] = next_state\n",
        "            self.terminals[self.idx, :] = terminal\n",
        "            self.idx += 1\n",
        "            if self.idx == self.args.capacity:\n",
        "                self.full = True\n",
        "                self.idx = 0\n",
        "            \n",
        "    def get_nstep(self):\n",
        "        state, action, _, _, _ = self.memories[0]\n",
        "        reward = 0\n",
        "        terminal = 0\n",
        "        k = 0\n",
        "\n",
        "        for s, a, r, ns, t in self.memories:\n",
        "          next_state = ns\n",
        "          reward += (self.args.discount ** k) * r\n",
        "          k += 1\n",
        "          if t:\n",
        "            terminal = 1\n",
        "            break\n",
        "        return state, action, reward, next_state, terminal"
      ]
    },
    {
      "cell_type": "markdown",
      "id": "34d45601",
      "metadata": {
        "id": "34d45601"
      },
      "source": [
        "### Task 2.2: Implement and train N-step DQN \n",
        "Implement the *update* method for **NStepDQN** class (no other method of base class should be changed): "
      ]
    },
    {
      "cell_type": "code",
      "execution_count": null,
      "id": "0d1cb4c6",
      "metadata": {
        "id": "0d1cb4c6"
      },
      "outputs": [],
      "source": [
        "class NStepDQN(DQN):\n",
        "    def __init__(self, args, nstep=3):\n",
        "        super(NStepDQN, self).__init__(args)\n",
        "        self.nstep = nstep\n",
        "        self.buffer = NStepBuffer(args, nstep)\n",
        "        \n",
        "    def update(self):\n",
        "        states, actions, rewards, next_states, terminals = self.buffer.sample()\n",
        "        with torch.no_grad():\n",
        "            q_ns = torch.max(self.q_target(next_states), dim=1)[0].unsqueeze(1)\n",
        "        q_targets = rewards + (1-terminals) * (self.args.discount ** self.nstep) * q_ns\n",
        "\n",
        "        self.optimizer.zero_grad()\n",
        "        q_values = self.q_net(states).gather(1, actions)\n",
        "        loss = nn.functional.smooth_l1_loss(q_values, q_targets)\n",
        "        loss.backward()\n",
        "        self.optimizer.step()\n",
        "        \n",
        "    def reset(self):\n",
        "        super().reset()\n",
        "        self.buffer = NStepBuffer(self.args, self.nstep)"
      ]
    },
    {
      "cell_type": "code",
      "execution_count": null,
      "id": "e27e7900",
      "metadata": {
        "id": "e27e7900",
        "colab": {
          "base_uri": "https://localhost:8080/"
        },
        "outputId": "0fbb98be-63d3-4298-87c9-5ea305134364"
      },
      "outputs": [
        {
          "output_type": "stream",
          "name": "stdout",
          "text": [
            "Sample: 2 Step: 39999 Evaluation reward: 237.22 Samples per second: 109"
          ]
        }
      ],
      "source": [
        "agent = NStepDQN(args)\n",
        "results_dqn2 = train_agent(args, agent)"
      ]
    },
    {
      "cell_type": "code",
      "source": [
        "print(results_dqn2.mean(1)[-10:].mean())\n",
        "print(results_dqn2.mean(1).mean())"
      ],
      "metadata": {
        "id": "8NP8FKJYcgIy",
        "colab": {
          "base_uri": "https://localhost:8080/"
        },
        "outputId": "ba649ec6-bfeb-445c-d45b-502880a212e9"
      },
      "id": "8NP8FKJYcgIy",
      "execution_count": null,
      "outputs": [
        {
          "output_type": "stream",
          "name": "stdout",
          "text": [
            "103.2544962347371\n",
            "2.7149021598272602\n"
          ]
        }
      ]
    },
    {
      "cell_type": "markdown",
      "id": "327ef325",
      "metadata": {
        "id": "327ef325"
      },
      "source": [
        "## 3. Noisy Layer Exploration\n",
        "\n",
        "$\\epsilon$-greedy exploration is not well suited for environments that require complex sequences of actions to achieve success. $\\epsilon$ value must be set manually, and finding a good value can be difficult and costly. A value that is too high will result in too much exploration and slow down learning, while a value that is too low will not allow the agent to gather enough information about the environment. Now, we will introduce a different method for exploration.\n",
        "\n",
        "Noisy linear layer, is a type of layer that can be added to a neural network [(Fortunato et al. 2017)](https://arxiv.org/pdf/1706.10295.pdf). These layers add a learned noise to the parameters of the network, which adds stochasticity to the network output. Noisy parameters can induce complex multi-step changes in estimated Q-values and the policy. Noisy linear layers can be more effective than $\\epsilon$-greedy in environments with sparse rewards or long-term dependencies, but they can also be less sample-efficient than well tuned $\\epsilon$-greedy strategy in simpler settings. \n",
        "\n",
        "Regular linear layer has $pq + q$ parameters, where $p$ and $q$ denote number of inputs and outputs in the layer. Denoting weight matrix as $W \\in \\mathbb{R}^{q \\times p}$, bias vector as $B \\in \\mathbb{R}^q$ and layer input as $X \\in \\mathbb{R}^p$, linear layer performs:\n",
        "\n",
        "$$\n",
        "Y = W X + B\n",
        "$$\n",
        "\n",
        "In contrast to that, noisy linear layer is defined as:\n",
        "\n",
        "$$\n",
        "Y = \\bigl( \\mu^W + \\sigma^W \\odot \\epsilon^W \\bigr) X + \\bigl( \\mu^B + \\sigma^B \\odot \\epsilon^B \\bigr)\n",
        "$$\n",
        "\n",
        "where $\\mu^W + \\sigma^W \\odot \\epsilon^W$ and $\\mu^B + \\sigma^B \\odot \\epsilon^B$ replace $W$ and $B$ in the first linear layer equation. The parameters $\\mu^W \\in \\mathbb{R}^{q \\times p}, \\mu^B \\in \\mathbb{R}^q, \\sigma^W \\in \\mathbb{R}^{q \\times p}$ and $\\sigma^B \\in \\mathbb{R}^q$ are learnt jointly via the single Q-network loss; $\\epsilon^W \\in \\mathbb{R}^{q \\times p}$ and $\\epsilon^B \\in \\mathbb{R}^q$ is the random noise. In principle, the random noise can be generated following any distribution, but the authors consider two strategies:\n",
        "\n",
        "1. **Independent Gaussian noise** - We generate each noise entry independently. As such, we perform $pq + q$ calls to the Gaussian noise generator. Simple, but can be costly for big networks\n",
        "\n",
        "2. **Factorised Gaussian noise** - This is a more computationally efficient way that authors use in the original paper. Instead of generating $pq + q$ entries independently, we generate two noise vectors: $\\epsilon^{p}, \\epsilon^{B} \\sim N(0, 1)$. Then, entries to $\\epsilon^W$ are given by:\n",
        "\n",
        "$$\n",
        "\\epsilon^{W}_{i,j} = f(\\epsilon^{p}_{i}) f(\\epsilon^{B}_{j}) \\quad \\text{with} \\quad f(x) = sgn(x) \\sqrt{|x|}.\n",
        "$$"
      ]
    },
    {
      "cell_type": "markdown",
      "id": "18c32694",
      "metadata": {
        "id": "18c32694"
      },
      "source": [
        "### Task 3.1 Implement NoisyLinear layer \n",
        "Implement the **NoisyLinear** class. The parameters of the noisy linear layer should be initialized with a correct initialization scheme (see section 3.2 in [Fortunato et al. 2017](https://arxiv.org/pdf/1706.10295.pdf)). The class should have the following methods:\n",
        "\n",
        "1. *get_noise* - the method should generate $\\epsilon^{W}$ and $\\epsilon^{B}$ using the factorised Gaussian noise procedure\n",
        "2. *forward* - generate noise and perform a forward pass"
      ]
    },
    {
      "cell_type": "code",
      "source": [
        "import sys\n",
        "\n",
        "class NoisyLinear(nn.Module):\n",
        "    def __init__(self, input_size, output_size, std):\n",
        "        super(NoisyLinear, self).__init__()\n",
        "        w_mu = torch.rand(output_size, input_size)\n",
        "        self.w_mu = nn.Parameter((-1/math.sqrt(input_size)) + w_mu * (2/math.sqrt(input_size))) \n",
        "\n",
        "        sig_0 = std\n",
        "        self.w_sig = nn.Parameter(torch.full((output_size, input_size), sig_0/math.sqrt(input_size)))\n",
        "        self.b_mu = nn.Parameter(torch.Tensor(output_size)) \n",
        "        self.b_sig = nn.Parameter(torch.Tensor(output_size)) \n",
        "        self.std = std\n",
        "        self.p = input_size\n",
        "        self.q = output_size\n",
        "\n",
        "\n",
        "    def get_device(self):\n",
        "        return self.w_mu.device\n",
        "\n",
        "    def f(self, x):\n",
        "      return torch.sgn(x) * torch.sqrt(torch.abs(x))\n",
        "\n",
        "    def get_noise(self):\n",
        "        p_eps = torch.rand(self.p).to(self.get_device())\n",
        "        b_eps = torch.rand(self.q).to(self.get_device())\n",
        "        w_noise = torch.outer(self.f(b_eps), self.f(p_eps)).to(self.get_device())\n",
        "        return w_noise, b_eps\n",
        "\n",
        "    def forward(self, x):\n",
        "        w_eps, b_eps = self.get_noise()\n",
        "        weight = self.w_mu + self.w_sig * w_eps\n",
        "        bias = self.b_mu + self.b_sig * b_eps\n",
        "        res = nn.functional.linear(x, weight, bias)\n",
        "        return res\n",
        "\n",
        "\n",
        "class NoisyQNetwork(nn.Module):\n",
        "    def __init__(self, args, std):\n",
        "        super(NoisyQNetwork, self).__init__()\n",
        "        self.layers = nn.Sequential(\n",
        "            nn.Linear(args.state_dim, args.hidden_dim), nn.ReLU(),\n",
        "            NoisyLinear(args.hidden_dim, args.hidden_dim, std), nn.ReLU(),\n",
        "            NoisyLinear(args.hidden_dim, args.action_dim, std))\n",
        "        \n",
        "    def forward(self, x):\n",
        "        return self.layers(x) "
      ],
      "metadata": {
        "id": "iGvh53ZfN9iS"
      },
      "id": "iGvh53ZfN9iS",
      "execution_count": null,
      "outputs": []
    },
    {
      "cell_type": "markdown",
      "id": "a9a3c6d8",
      "metadata": {
        "id": "a9a3c6d8"
      },
      "source": [
        "### Task 3.2 Train NoisyDQN with NoisyLayers \n"
      ]
    },
    {
      "cell_type": "code",
      "execution_count": null,
      "id": "d3511485",
      "metadata": {
        "id": "d3511485"
      },
      "outputs": [],
      "source": [
        "class NoisyDQN(DQN):\n",
        "    def __init__(self, args, std=0.2):\n",
        "        super(NoisyDQN, self).__init__(args)\n",
        "        self.q_net = NoisyQNetwork(args, std).to(args.device)\n",
        "        self.q_target = NoisyQNetwork(args, std).to(args.device)\n",
        "        self.q_target.load_state_dict(self.q_net.state_dict())\n",
        "        self.optimizer = optim.Adam(self.q_net.parameters(), lr=args.learning_rate, eps=1e-5)\n",
        "        self.std = std\n",
        "        \n",
        "    def get_action(self, state, exploration=True):\n",
        "        return torch.argmax(self.q_net(state)).item()\n",
        "\n",
        "    def anneal(self, step):\n",
        "        pass\n",
        "    \n",
        "    def reset(self):\n",
        "        super().reset()\n",
        "        self.q_net = NoisyQNetwork(self.args, self.std).to(self.args.device)\n",
        "        self.q_target = NoisyQNetwork(self.args, self.std).to(self.args.device)\n",
        "        self.q_target.load_state_dict(self.q_net.state_dict())\n",
        "        self.optimizer = optim.Adam(self.q_net.parameters(), lr=self.args.learning_rate, eps=1e-5)"
      ]
    },
    {
      "cell_type": "code",
      "execution_count": null,
      "id": "efd5e996",
      "metadata": {
        "id": "efd5e996",
        "colab": {
          "base_uri": "https://localhost:8080/"
        },
        "outputId": "04be375c-7bbd-40d0-9cc9-a272b0b00341"
      },
      "outputs": [
        {
          "output_type": "stream",
          "name": "stdout",
          "text": [
            "Sample: 2 Step: 39999 Evaluation reward: 9.09 Samples per second: 80"
          ]
        }
      ],
      "source": [
        "agent = NoisyDQN(args)\n",
        "results_dqn3 = train_agent(args, agent)"
      ]
    },
    {
      "cell_type": "code",
      "source": [
        "print(results_dqn3.mean(1)[-10:].mean())\n",
        "print(results_dqn3.mean(1).mean())"
      ],
      "metadata": {
        "colab": {
          "base_uri": "https://localhost:8080/"
        },
        "id": "FGNsTGcFYBo2",
        "outputId": "8244894b-40a3-44d2-bfbd-4f7cadfb4ca6"
      },
      "id": "FGNsTGcFYBo2",
      "execution_count": null,
      "outputs": [
        {
          "output_type": "stream",
          "name": "stdout",
          "text": [
            "-17.847561821346517\n",
            "-50.171878288984466\n"
          ]
        }
      ]
    },
    {
      "cell_type": "markdown",
      "id": "ba25c410",
      "metadata": {
        "id": "ba25c410"
      },
      "source": [
        "## 4. DUELING DQN\n",
        "\n",
        "State-action advantage under policy $\\pi$ is given by:\n",
        "\n",
        "$$\n",
        "A^\\pi (s, a) = Q^\\pi (s, a) - V^\\pi (s)\n",
        "$$\n",
        "\n",
        "Where $A^\\pi (s, a)$ denotes state-action advantage, $Q^\\pi (s, a)$ denotes state-action Q-value and $V^\\pi (s)$ denotes state value. Advantage is a measure of how much better a particular action is than the state value. Given optimal policy it follows that $\\underset{a}{\\mathrm{max}}~Q^\\pi (s, a) = V^\\pi (s)$ and as such $A^\\pi (s, a) \\leq 0$ if $\\pi$ is optimal. We can use advantages to redefine Q-values:\n",
        "\n",
        "$$\n",
        "Q^\\pi (s, a) = V^\\pi (s) + A^\\pi (s, a)\n",
        "$$\n",
        "\n",
        "As such, we can use separate networks to predict $A^\\pi (s, a)$ and $V^\\pi (s)$ and retrieve Q-values using the equation above. This is exactly the idea behind the Dueling Q-network architecture [(Wang et al. 2015)](https://arxiv.org/pdf/1511.06581.pdf). Decoupling Q-values into values and advantages offers some optimization benefits:\n",
        "\n",
        "1. $V^\\pi (s)$ is independent of actions, as such the value network will have less parameters than a Q-network\n",
        "2. $A^\\pi (s, a)$ although action dependent, advantages oscillate around 0 and change slowly throughout the optimization\n",
        "\n",
        "Intuitively, the dueling Q-network can more efficiently learn which states are valuable, even when the actions available in those states do not affect the environment in a meaningful way. This can be particularly helpful in large or complex environments where it may not be possible to learn good action values for every state-action pair. Dueling DQN architecture uses joint feature layer and two separate heads to represent advantage and value streams (look at Figure 1. in [(Wang et al. 2015)](https://arxiv.org/pdf/1511.06581.pdf)). To further smoothen the optimization, Dueling DQN Q-value is calculated with the following:\n",
        "\n",
        "$$\n",
        "Q_\\theta (s, a) = V_\\theta (s) + \\bigl( A_\\theta (s, a) - \\sum_{a} \\frac{A_\\theta (s, a)}{N_a} \\bigr),\n",
        "$$\n",
        "\n",
        "where $N_a$ is the number of possible actions."
      ]
    },
    {
      "cell_type": "markdown",
      "id": "d6ac9783",
      "metadata": {
        "id": "d6ac9783"
      },
      "source": [
        "### Task 4.1 Implement and train DuelingQNetwork (10% points)\n",
        "Implement the **DuelingQNetwork** class and its *forward* method (no other method of the base class should be changed):"
      ]
    },
    {
      "cell_type": "code",
      "execution_count": null,
      "id": "89b64c39",
      "metadata": {
        "id": "89b64c39"
      },
      "outputs": [],
      "source": [
        "class DuelingQNetwork(nn.Module):\n",
        "    def __init__(self, args):\n",
        "        super(DuelingQNetwork, self).__init__()\n",
        "        self.layers = nn.Sequential(\n",
        "            nn.Linear(args.state_dim, args.hidden_dim), nn.ReLU(),\n",
        "            nn.Linear(args.hidden_dim, args.hidden_dim), nn.ReLU(),)\n",
        "        self.advantage_head = nn.Linear(args.hidden_dim, args.action_dim)\n",
        "        self.value_head = nn.Linear(args.hidden_dim, 1)\n",
        "        \n",
        "    def forward(self, x):\n",
        "        x = self.layers(x)\n",
        "        a = self.advantage_head(x)\n",
        "        res =  self.value_head(x) + (a - a.mean(dim=-1, keepdim=True))\n",
        "        return res\n",
        "    \n",
        "class DuelingDQN(DQN):\n",
        "    def __init__(self, args):\n",
        "        super(DuelingDQN, self).__init__(args)\n",
        "        self.q_net = DuelingQNetwork(args).to(args.device)\n",
        "        self.q_target = DuelingQNetwork(args).to(args.device)\n",
        "        self.q_target.load_state_dict(self.q_net.state_dict())\n",
        "        self.optimizer = optim.Adam(self.q_net.parameters(), lr=args.learning_rate, eps=1e-5)\n",
        "        \n",
        "    def reset(self):\n",
        "        super().reset()\n",
        "        self.q_net = DuelingQNetwork(self.args).to(self.args.device)\n",
        "        self.q_target = DuelingQNetwork(self.args).to(self.args.device)\n",
        "        self.q_target.load_state_dict(self.q_net.state_dict())\n",
        "        self.optimizer = optim.Adam(self.q_net.parameters(), lr=self.args.learning_rate, eps=1e-5)"
      ]
    },
    {
      "cell_type": "code",
      "execution_count": null,
      "id": "3a641e57",
      "metadata": {
        "id": "3a641e57",
        "colab": {
          "base_uri": "https://localhost:8080/"
        },
        "outputId": "503ee0e1-7de5-4820-cc4b-f3c094736ce7"
      },
      "outputs": [
        {
          "output_type": "stream",
          "name": "stdout",
          "text": [
            "Sample: 2 Step: 39999 Evaluation reward: -65.71 Samples per second: 81"
          ]
        }
      ],
      "source": [
        "agent = DuelingDQN(args)\n",
        "results_dqn4 = train_agent(args, agent)\n"
      ]
    },
    {
      "cell_type": "code",
      "source": [
        "print(results_dqn4.mean(1)[-10:].mean())\n",
        "print(results_dqn4.mean(1).mean())"
      ],
      "metadata": {
        "colab": {
          "base_uri": "https://localhost:8080/"
        },
        "id": "S9eFZuto5O7O",
        "outputId": "004bb5d7-21ac-44a9-eef1-eec9e59cfca9"
      },
      "id": "S9eFZuto5O7O",
      "execution_count": null,
      "outputs": [
        {
          "output_type": "stream",
          "name": "stdout",
          "text": [
            "-50.974898876649966\n",
            "-41.61869334529577\n"
          ]
        }
      ]
    },
    {
      "cell_type": "markdown",
      "id": "730bb10e",
      "metadata": {
        "id": "730bb10e"
      },
      "source": [
        "## 5. Prioritized experience replay\n",
        "\n",
        "In regular experience replay the transitions are uniformly sampled during training and used to update the agent's learning policy. Prioritized replay [(Schaul et al. 2015)](https://arxiv.org/pdf/1511.05952.pdf) is a variant of the experience replay buffer that prioritizes transitions based on the magnitude of the TD error, which is a measure of how much the agent's estimates of the action values deviate from the actual values. Transitions with a higher TD error are more important for learning, because they represent a greater deviation from the agent's current understanding of the environment. By prioritizing transitions with a higher TD error, the agent can more effectively learn from its experiences and improve its performance.\n",
        "\n",
        "To implement a prioritized replay buffer, we need to store not only the transitions themselves, but also the TD error for each transition. We will use a queue-like mechanism to prioritize the transitions based on their TD error, and sample transitions from the buffer using a priority-based sampling distribution. New transitions arrive with maximal priority in order to guarantee that all experience is seen at least once. This allows the agent to more effectively learn from rare or unusual transitions that might be overlooked in a standard experience replay buffer.\n",
        "\n",
        "There are two ways to prioritize transitions in the experience replay buffer based on the TD error: greedy prioritization and stochastic prioritization. When using greedy prioritization, the transitions with the highest TD errors are replayed more frequently, which can lead to overfitting and overlooking certain transitions. To address this issue, we will use a stochastic prioritization method that balances between greedy prioritization and uniform random sampling introducing more diversity in the sampled transitions.\n",
        "\n",
        "$$\n",
        "P(i) = \\frac{p_i^{\\alpha} + \\epsilon}{\\sum_{j=1}^{D} (p_j^{\\alpha} + \\epsilon)}\n",
        "$$\n",
        "\n",
        "Where $p_i > 0$ denotes the priority of transition $i$ with $i, j \\in D$, $D$ denotes the buffer data, $\\epsilon$ is a small positive constant and the exponent $\\alpha$ determines how much prioritization is used, with $\\alpha = 0$ corresponding to the uniform sampling. \n",
        "\n",
        "The estimation of the expected value with stochastic updates relies on those updates corresponding to the same distribution as its expectation. Prioritized replay introduces bias because it changes this distribution in an uncontrolled fashion, and therefore changes the solution that the estimates will converge to (even if the policy and state distribution are fixed). To compensate for non-uniform sampling scheme, prioritized experience replay leverages one more mechanism - importance sampling. To this end, when calculating loss over the batch transition TD error is weighted with an importance weight:\n",
        "\n",
        "\n",
        "$$\n",
        "\\mathcal{L}_{\\theta} = \\frac{1}{B} \\sum_{i=1}^{B} \\bigl( w_i * \\mathrm{TD}~(s_i, a_i, s^{'}_{i}) \\bigr)^{2}\n",
        "$$\n",
        "\n",
        "Where:\n",
        "\n",
        "$$\n",
        "w_i = \\big( \\frac{1}{D} \\cdot \\frac{1}{P(i)} \\big)^\\beta\n",
        "$$\n",
        "\n",
        "Which given $\\beta = 1$ fully compensates for the non uniform sampling. We will anneal values of $\\alpha$ and $\\beta$ towards 1 throughout the training.\n",
        "\n",
        "Managing priorities is often implemented via a Segment Tree. It allows us to be very efficient in sampling transitions, while creating a bit of overhead in writing new values. **You are not required to use segment tree, and no points will be subtracted for not using it. However we encourage to do it for better efficiency and shorter training time.** We provide you with the OpenAI implementation of a SegmentTree below. We recommend that you read a bit about segment trees before moving forward:\n",
        "\n",
        "1. https://www.geeksforgeeks.org/segment-tree-set-1-sum-of-given-range/\n",
        "2. https://github.com/openai/baselines/blob/master/baselines/common/segment_tree.py\n",
        "\n",
        "**Note that the priority queue will be much slower even with good implementation. This slow down is much less visible in image-based RL, where other parts of the compute pipeline are greatly more demanding.**"
      ]
    },
    {
      "cell_type": "code",
      "source": [
        "!wget https://raw.githubusercontent.com/openai/baselines/master/baselines/common/segment_tree.py\n",
        "from segment_tree import MinSegmentTree, SumSegmentTree"
      ],
      "metadata": {
        "id": "cBm8-bPtp6do",
        "colab": {
          "base_uri": "https://localhost:8080/"
        },
        "outputId": "49a679bf-8108-4642-f3b0-e2b1bc119b12"
      },
      "id": "cBm8-bPtp6do",
      "execution_count": null,
      "outputs": [
        {
          "output_type": "stream",
          "name": "stdout",
          "text": [
            "--2023-01-29 20:58:33--  https://raw.githubusercontent.com/openai/baselines/master/baselines/common/segment_tree.py\n",
            "Resolving raw.githubusercontent.com (raw.githubusercontent.com)... 185.199.108.133, 185.199.111.133, 185.199.109.133, ...\n",
            "Connecting to raw.githubusercontent.com (raw.githubusercontent.com)|185.199.108.133|:443... connected.\n",
            "HTTP request sent, awaiting response... 200 OK\n",
            "Length: 4899 (4.8K) [text/plain]\n",
            "Saving to: ‘segment_tree.py’\n",
            "\n",
            "segment_tree.py     100%[===================>]   4.78K  --.-KB/s    in 0s      \n",
            "\n",
            "2023-01-29 20:58:33 (43.3 MB/s) - ‘segment_tree.py’ saved [4899/4899]\n",
            "\n"
          ]
        }
      ]
    },
    {
      "cell_type": "markdown",
      "id": "697c07aa",
      "metadata": {
        "id": "697c07aa"
      },
      "source": [
        "### Task 5.1 Implement PrioritizedBuffer \n",
        "Implement the **PrioritizedBuffer** class and the following methods:\n",
        "\n",
        "1. *add* - it should also manage the priorities in the trees\n",
        "2. *sample* - it should samples according to priorities and return importance weights\n",
        "3. *update_priorities* - it should update priorities in trees after performing DQN update\n",
        "4. *get_idx* - it should sample indices according to probability ditribution\n",
        "5. *calculate_weights* - it should calculate importance weights for given index\n",
        "\n",
        "No other method of the base class should be changed. "
      ]
    },
    {
      "cell_type": "code",
      "execution_count": null,
      "id": "c9ea6c31",
      "metadata": {
        "id": "c9ea6c31"
      },
      "outputs": [],
      "source": [
        "class PrioritizedBuffer(ExperienceBuffer):    \n",
        "    def __init__(self, args, alpha, beta):\n",
        "        super(PrioritizedBuffer, self).__init__(args)\n",
        "        self.beta = beta \n",
        "        self.alpha = alpha\n",
        "        self.weights = np.zeros((args.capacity, 1), dtype=np.float32)\n",
        "        self.lil_priorities = np.zeros(args.capacity, dtype=np.float32)\n",
        "        self.big_priorities = np.full(args.capacity, 1/args.capacity, dtype=np.float32)\n",
        "        self.eps = 0.01 # small constant\n",
        "        \n",
        "    def get_D(self):\n",
        "        return self.args.capacity if self.full else self.idx \n",
        "\n",
        "    def add(self, state, action, reward, next_state, terminal):\n",
        "        self.states[self.idx, :] = state\n",
        "        self.actions[self.idx, :] = action\n",
        "        self.rewards[self.idx, :] = reward\n",
        "        self.next_states[self.idx, :] = next_state\n",
        "        self.terminals[self.idx, :] = 1 if terminal else 0\n",
        "        self.update_priorities([self.idx], [100])\n",
        "        self.idx += 1\n",
        "        if self.idx == self.args.capacity:\n",
        "            self.full = True\n",
        "            self.idx = 0\n",
        "                \n",
        "    def sample(self):\n",
        "        idx = self.get_idx()\n",
        "        states = torch.from_numpy(self.states[idx]).to(self.args.device)\n",
        "        actions = torch.from_numpy(self.actions[idx]).to(self.args.device)\n",
        "        rewards = torch.from_numpy(self.rewards[idx]).to(self.args.device)\n",
        "        next_states = torch.from_numpy(self.next_states[idx]).to(self.args.device)\n",
        "        terminals = torch.from_numpy(self.terminals[idx]).long().to(self.args.device)\n",
        "        weights = self.calculate_weight(idx)\n",
        "        return states, actions, rewards, next_states, terminals, idx, weights\n",
        "    \n",
        "    def update_priorities(self, idx, priorities):\n",
        "        for update_index, self_index in enumerate(idx):\n",
        "          self.lil_priorities[self_index] = priorities[update_index]\n",
        "        \n",
        "        for i, p_i in enumerate(self.lil_priorities):\n",
        "          self.big_priorities[i] = (p_i ** self.alpha + self.eps)\n",
        "\n",
        "        self.big_priorities = self.big_priorities / np.sum(self.big_priorities)\n",
        "                \n",
        "    def get_idx(self):\n",
        "        s = np.sum(self.big_priorities)\n",
        "        # here I came across numerical error resulting probably from summing small numbers; s was equal to almost 1\n",
        "        self.big_priorities = self.big_priorities / s\n",
        "        return np.random.choice(a=self.get_D(), size=min(self.args.batch_size, self.get_D()), p=self.big_priorities, replace=False)\n",
        "    \n",
        "    def calculate_weight(self, idx):\n",
        "        res = np.array([(((1/self.args.capacity) * (1/self.big_priorities[i])) ** self.beta) ** 2 for i in idx])\n",
        "        return torch.from_numpy(res).to(self.args.device).unsqueeze(1)"
      ]
    },
    {
      "cell_type": "markdown",
      "id": "73c22925",
      "metadata": {
        "id": "73c22925"
      },
      "source": [
        "### Task 5.2 Train PrioritizedDQN \n",
        "Implement the **PrioritizedDQN** class and its *update* method (no other method of the base class should be changed):"
      ]
    },
    {
      "cell_type": "code",
      "execution_count": null,
      "id": "86de8b40",
      "metadata": {
        "id": "86de8b40"
      },
      "outputs": [],
      "source": [
        "class PrioritizedDQN(DQN):\n",
        "    def __init__(self, args, alpha=0.2, beta=0.2):\n",
        "        super(PrioritizedDQN, self).__init__(args)\n",
        "        self.buffer = PrioritizedBuffer(args, alpha, beta)\n",
        "        self.alpha = alpha\n",
        "        self.beta = beta\n",
        "        \n",
        "    def update(self):\n",
        "        states, actions, rewards, next_states, terminals, idx, weights = self.buffer.sample()\n",
        "        with torch.no_grad():\n",
        "            q_ns = torch.max(self.q_target(next_states), dim=1)[0].unsqueeze(1)\n",
        "        q_targets = rewards + (1-terminals) * self.args.discount * q_ns\n",
        "        self.optimizer.zero_grad()\n",
        "        q_values = self.q_net(states).gather(1, actions)\n",
        "        td_errors = nn.functional.smooth_l1_loss(q_values, q_targets, reduction='none')\n",
        "        loss = torch.mean(td_errors * weights) # TODO\n",
        "        loss.backward()\n",
        "        self.optimizer.step()\n",
        "        priorities = td_errors.detach().squeeze().cpu().tolist()\n",
        "        self.buffer.update_priorities(idx, priorities)\n",
        "        \n",
        "    def anneal(self, step):\n",
        "        super().anneal(step)\n",
        "        if step < self.args.anneal_steps:\n",
        "            self.buffer.alpha = ((1 - self.alpha)/self.args.anneal_steps)*step + self.alpha\n",
        "            self.buffer.beta = ((1 - self.beta)/self.args.anneal_steps)*step + self.beta\n",
        "        else:\n",
        "            pass\n",
        "\n",
        "    def reset(self):\n",
        "        super().reset()\n",
        "        self.buffer = PrioritizedBuffer(self.args, self.alpha, self.beta)  "
      ]
    },
    {
      "cell_type": "code",
      "execution_count": null,
      "id": "96c9a63d",
      "metadata": {
        "id": "96c9a63d",
        "colab": {
          "base_uri": "https://localhost:8080/"
        },
        "outputId": "7a7b9644-2148-442c-ec4a-4b679fc450f7"
      },
      "outputs": [
        {
          "output_type": "stream",
          "name": "stdout",
          "text": [
            "Sample: 2 Step: 39999 Evaluation reward: -150.84 Samples per second: 13"
          ]
        }
      ],
      "source": [
        "agent = PrioritizedDQN(args)\n",
        "results_dqn5 = train_agent(args, agent)"
      ]
    },
    {
      "cell_type": "code",
      "source": [
        "print(results_dqn5.mean(1)[-10:].mean())\n",
        "print(results_dqn5.mean(1).mean())"
      ],
      "metadata": {
        "colab": {
          "base_uri": "https://localhost:8080/"
        },
        "id": "VmBXXM7v8rqv",
        "outputId": "998db6d7-1f38-4bfa-9c30-70556b5054c7"
      },
      "id": "VmBXXM7v8rqv",
      "execution_count": null,
      "outputs": [
        {
          "output_type": "stream",
          "name": "stdout",
          "text": [
            "-79.60860455698187\n",
            "-84.64866697069485\n"
          ]
        }
      ]
    },
    {
      "cell_type": "markdown",
      "id": "69b90bf3",
      "metadata": {
        "id": "69b90bf3"
      },
      "source": [
        "## 6. (Almost) Rainbow\n",
        "The final thing we are left with is to combine all the improvements into a single agent [(Hessel 2017)](https://arxiv.org/pdf/1710.02298.pdf). To this end, you have to implement three classes:\n",
        "\n",
        "1. **RainbowBuffer** - experience buffer that combines nstep returns and priority-based sampling\n",
        "2. **RainbowQNetwork** - Q-network that uses noisy linear layers in a dueling setup\n",
        "3. **RainbowDQN** - DQN that combines all of the covered techniques\n",
        "\n",
        "![fig1](https://production-media.paperswithcode.com/methods/Screen_Shot_2020-07-07_at_9.14.13_PM_4fMCutg.png)"
      ]
    },
    {
      "cell_type": "markdown",
      "id": "c964c779",
      "metadata": {
        "id": "c964c779"
      },
      "source": [
        "### Task 6.1 Implement RainbowBuffer"
      ]
    },
    {
      "cell_type": "code",
      "execution_count": null,
      "id": "372a2972",
      "metadata": {
        "id": "372a2972"
      },
      "outputs": [],
      "source": [
        "from collections import deque \n",
        "\n",
        "# using Prioritized Experience Buffer took to long time to train, \n",
        "# so in the Rainbow DQN I've decided to use just a NStep buffer instead, which was a \n",
        "# massive improvement for a small cost\n",
        "\n",
        "class RainbowBuffer(ExperienceBuffer):\n",
        "    def __init__(self, args, nstep, alpha, beta):\n",
        "        super(RainbowBuffer, self).__init__(args)\n",
        "        self.alpha = alpha\n",
        "        self.beta = beta   \n",
        "        self.weights = np.zeros((args.capacity, 1), dtype=np.float32)\n",
        "        self.lil_priorities = np.zeros(args.capacity, dtype=np.float32)\n",
        "        self.big_priorities = np.full(args.capacity, 1/args.capacity, dtype=np.float32)\n",
        "        self.eps = 0.01 # small constant\n",
        "        self.memories = deque(maxlen=nstep)\n",
        "        self.nstep = nstep \n",
        "        \n",
        "    def add(self, state, action, reward, next_state, terminal):\n",
        "        terminal_ = 1 if terminal else 0 \n",
        "        memory = (state, action, reward, next_state, terminal_)\n",
        "        self.memories.append(memory)\n",
        "\n",
        "        if len(self.memories) >= self.nstep:\n",
        "          state, action, reward, next_state, terminal = self.get_nstep()\n",
        "          self.states[self.idx, :] = state\n",
        "          self.actions[self.idx, :] = action\n",
        "          self.rewards[self.idx, :] = reward\n",
        "          self.next_states[self.idx, :] = next_state\n",
        "          self.terminals[self.idx, :] = 1 if terminal else 0\n",
        "          self.update_priorities([self.idx], [100])\n",
        "          self.idx += 1\n",
        "          if self.idx == self.args.capacity:\n",
        "              self.full = True\n",
        "              self.idx = 0\n",
        "\n",
        "    def get_nstep(self):\n",
        "        state, action, _, _, _ = self.memories[0]\n",
        "        reward = 0\n",
        "        terminal = 0\n",
        "        k = 0\n",
        "\n",
        "        for s, a, r, ns, t in self.memories:\n",
        "          next_state = ns\n",
        "          reward += (self.args.discount ** k) * r\n",
        "          k += 1\n",
        "          if t:\n",
        "            terminal = 1\n",
        "            break\n",
        "        return state, action, reward, next_state, terminal\n",
        "                \n",
        "    def sample(self):\n",
        "        idx = self.get_idx()\n",
        "        states = torch.from_numpy(self.states[idx]).to(self.args.device)\n",
        "        actions = torch.from_numpy(self.actions[idx]).to(self.args.device)\n",
        "        rewards = torch.from_numpy(self.rewards[idx]).to(self.args.device)\n",
        "        next_states = torch.from_numpy(self.next_states[idx]).to(self.args.device)\n",
        "        terminals = torch.from_numpy(self.terminals[idx]).long().to(self.args.device)\n",
        "        weights = self.calculate_weight(idx)\n",
        "        return states, actions, rewards, next_states, terminals, idx, weights\n",
        "    \n",
        "    def update_priorities(self, idx, priorities):\n",
        "        for update_index, self_index in enumerate(idx):\n",
        "          self.lil_priorities[self_index] = priorities[update_index]\n",
        "        \n",
        "        for i, p_i in enumerate(self.lil_priorities):\n",
        "          self.big_priorities[i] = (p_i ** self.alpha + self.eps)\n",
        "\n",
        "        self.big_priorities = self.big_priorities / np.sum(self.big_priorities)\n",
        "                \n",
        "    def get_idx(self):\n",
        "        s = np.sum(self.big_priorities)\n",
        "        # here I came across numerical error resulting from summing small numbers; s was equal to almost 1\n",
        "        self.big_priorities = self.big_priorities / s\n",
        "        return np.random.choice(a=self.get_D(), size=min(self.args.batch_size, self.get_D()), p=self.big_priorities, replace=False)\n",
        "    \n",
        "    def calculate_weight(self, idx):\n",
        "        res = np.array([(((1/self.args.capacity) * (1/self.big_priorities[i])) ** self.beta) ** 2 for i in idx])\n",
        "        return torch.from_numpy(res).to(self.args.device).unsqueeze(1)"
      ]
    },
    {
      "cell_type": "markdown",
      "id": "759b4524",
      "metadata": {
        "id": "759b4524"
      },
      "source": [
        "### Task 6.2 Implement RainbowQNetwork class "
      ]
    },
    {
      "cell_type": "code",
      "execution_count": null,
      "id": "9889f6ee",
      "metadata": {
        "id": "9889f6ee"
      },
      "outputs": [],
      "source": [
        "class RainbowQNetwork(nn.Module):\n",
        "    def __init__(self, args, std):\n",
        "        super(RainbowQNetwork, self).__init__()\n",
        "        self.layers = self.layers = nn.Sequential(\n",
        "            nn.Linear(args.state_dim, args.hidden_dim), nn.ReLU(),\n",
        "            NoisyLinear(args.hidden_dim, args.hidden_dim, std), nn.ReLU(),\n",
        "            NoisyLinear(args.hidden_dim, args.hidden_dim, std))\n",
        "        \n",
        "        self.advantage_head = nn.Linear(args.hidden_dim, args.action_dim)\n",
        "        self.value_head = nn.Linear(args.hidden_dim, 1)\n",
        "        \n",
        "    def forward(self, x):\n",
        "        x = self.layers(x)\n",
        "        a = self.advantage_head(x)\n",
        "        res =  self.value_head(x) + (a - a.mean(dim=-1, keepdim=True))\n",
        "        return res"
      ]
    },
    {
      "cell_type": "markdown",
      "id": "12406eb1",
      "metadata": {
        "id": "12406eb1"
      },
      "source": [
        "### Task 6.2 Implement and train RainbowDQN agent "
      ]
    },
    {
      "cell_type": "code",
      "execution_count": null,
      "id": "f3ee6f39",
      "metadata": {
        "id": "f3ee6f39"
      },
      "outputs": [],
      "source": [
        "class RainbowDQN(DQN):\n",
        "    def __init__(self, args, nstep=3, std=0.2, alpha=0.2, beta=0.2):\n",
        "        super(RainbowDQN, self).__init__(args)\n",
        "        self.buffer = NStepBuffer(args, nstep)\n",
        "        self.alpha = alpha\n",
        "        self.beta = beta\n",
        "        self.nstep = nstep \n",
        "        self.q_net = RainbowQNetwork(args, std).to(args.device)\n",
        "        self.q_target = RainbowQNetwork(args, std).to(args.device)\n",
        "        self.q_target.load_state_dict(self.q_net.state_dict())\n",
        "        self.optimizer = optim.Adam(self.q_net.parameters(), lr=args.learning_rate, eps=1e-5)\n",
        "        self.std = std\n",
        "        \n",
        "    def update(self):\n",
        "        states, actions, rewards, next_states, terminals = self.buffer.sample()\n",
        "\n",
        "        with torch.no_grad():\n",
        "          x = self.q_net(next_states)\n",
        "          best_action = torch.argmax(x, dim=1).unsqueeze(1)\n",
        "          q_values = self.q_target(next_states)\n",
        "          q_ns = q_values.gather(1, best_action)\n",
        "\n",
        "        q_targets = rewards + (1-terminals) * (self.args.discount ** self.nstep) * q_ns\n",
        "        \n",
        "        self.optimizer.zero_grad()\n",
        "        q_values = self.q_net(states).gather(1, actions)\n",
        "        loss = nn.functional.smooth_l1_loss(q_values, q_targets)\n",
        "        loss.backward()\n",
        "        self.optimizer.step()\n",
        "        \n",
        "    def anneal(self, step):\n",
        "        if step < self.args.anneal_steps and step > self.args.init_steps:\n",
        "            self.buffer.alpha = ((1 - self.alpha)/self.args.anneal_steps)*step + self.alpha\n",
        "            self.buffer.beta = ((1 - self.beta)/self.args.anneal_steps)*step + self.beta\n",
        "        else:\n",
        "            pass\n",
        "\n",
        "    def get_action(self, state, exploration=True):\n",
        "        return torch.argmax(self.q_net(state)).item()\n",
        "    \n",
        "    def reset(self):\n",
        "        self.buffer = NStepBuffer(self.args, self.nstep)\n",
        "        self.q_net = RainbowQNetwork(self.args, self.std).to(self.args.device)\n",
        "        self.q_target = RainbowQNetwork(self.args, self.std).to(self.args.device)\n",
        "        self.q_target.load_state_dict(self.q_net.state_dict())\n",
        "        self.optimizer = optim.Adam(self.q_net.parameters(), lr=self.args.learning_rate, eps=1e-5)"
      ]
    },
    {
      "cell_type": "code",
      "execution_count": null,
      "id": "feb1c384",
      "metadata": {
        "id": "feb1c384",
        "colab": {
          "base_uri": "https://localhost:8080/"
        },
        "outputId": "af0c44ad-227f-4b12-a968-66f92a3bbca9"
      },
      "outputs": [
        {
          "output_type": "stream",
          "name": "stdout",
          "text": [
            "Sample: 2 Step: 39999 Evaluation reward: 73.05 Samples per second: 8777.85887938864077\n"
          ]
        }
      ],
      "source": [
        "agent = RainbowDQN(args)\n",
        "results_dqn6 = train_agent(args, agent)\n",
        "# download_numpy(\"results_dqn6.npy\", results_dqn6)\n",
        "print(results_dqn6.mean(1)[-10:].mean())"
      ]
    },
    {
      "cell_type": "markdown",
      "id": "5a39b8c3",
      "metadata": {
        "id": "5a39b8c3"
      },
      "source": [
        "# Task 7 Plot collected results\n",
        "Plot evaluation performance with respect to number of frames for all versions of DQN (including raw one). Draw 90% confidence intervals for each line (see seaborn.lineplot)."
      ]
    },
    {
      "cell_type": "code",
      "source": [
        "import matplotlib.pyplot as plt\n",
        "\n",
        "plt.figure(figsize=(10, 7))\n",
        "\n",
        "def add(data, label):\n",
        "  data = data.mean(1)\n",
        "  plt.plot(range(len(data)), data, label=label)\n",
        "\n",
        "add(results_dqn, 'DQN')\n",
        "add(results_dqn1, 'Double DQN')\n",
        "add(results_dqn2, 'TDN')\n",
        "add(results_dqn3, 'Noisy Expl')\n",
        "add(results_dqn4, 'Dueling DQN')\n",
        "add(results_dqn5, 'Prioritized DQN')\n",
        "add(results_dqn6, 'Almost Rainbow')\n",
        "\n",
        "plt.legend(loc=\"upper left\")"
      ],
      "metadata": {
        "colab": {
          "base_uri": "https://localhost:8080/",
          "height": 447
        },
        "id": "alGh6Z2kL0MS",
        "outputId": "a21fc072-52b0-43f9-9795-1adbc953d799"
      },
      "id": "alGh6Z2kL0MS",
      "execution_count": null,
      "outputs": [
        {
          "output_type": "execute_result",
          "data": {
            "text/plain": [
              "<matplotlib.legend.Legend at 0x7fe0f7b5aaf0>"
            ]
          },
          "metadata": {},
          "execution_count": 111
        },
        {
          "output_type": "display_data",
          "data": {
            "text/plain": [
              "<Figure size 720x504 with 1 Axes>"
            ],
            "image/png": "[encoded data removed]"
          },
          "metadata": {
            "needs_background": "light"
          }
        }
      ]
    }
  ],
  "metadata": {
    "kernelspec": {
      "display_name": "atp",
      "language": "python",
      "name": "python3"
    },
    "language_info": {
      "codemirror_mode": {
        "name": "ipython",
        "version": 3
      },
      "file_extension": ".py",
      "mimetype": "text/x-python",
      "name": "python",
      "nbconvert_exporter": "python",
      "pygments_lexer": "ipython3",
      "version": "3.8.13"
    },
    "vscode": {
      "interpreter": {
        "hash": "6809863f01cf54cb8cf26991fcf8425a337722d7d35212492765d6bf47d2da35"
      }
    },
    "colab": {
      "provenance": [],
      "toc_visible": true,
      "include_colab_link": true
    },
    "gpuClass": "standard"
  },
  "nbformat": 4,
  "nbformat_minor": 5
}